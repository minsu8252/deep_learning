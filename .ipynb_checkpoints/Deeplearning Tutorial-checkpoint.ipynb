{
 "cells": [
  {
   "cell_type": "code",
   "execution_count": 5,
   "id": "e05de0ba",
   "metadata": {},
   "outputs": [
    {
     "name": "stdout",
     "output_type": "stream",
     "text": [
      "Epoch 1/100\n",
      "47/47 [==============================] - 0s 520us/step - loss: 0.8781 - accuracy: 0.7774\n",
      "Epoch 2/100\n",
      "47/47 [==============================] - 0s 492us/step - loss: 0.4637 - accuracy: 0.8707\n",
      "Epoch 3/100\n",
      "47/47 [==============================] - 0s 477us/step - loss: 0.4652 - accuracy: 0.8347\n",
      "Epoch 4/100\n",
      "47/47 [==============================] - 0s 479us/step - loss: 0.5176 - accuracy: 0.8405\n",
      "Epoch 5/100\n",
      "47/47 [==============================] - 0s 481us/step - loss: 0.4461 - accuracy: 0.8570\n",
      "Epoch 6/100\n",
      "47/47 [==============================] - 0s 477us/step - loss: 0.4391 - accuracy: 0.8523\n",
      "Epoch 7/100\n",
      "47/47 [==============================] - 0s 465us/step - loss: 0.4616 - accuracy: 0.8443\n",
      "Epoch 8/100\n",
      "47/47 [==============================] - 0s 505us/step - loss: 0.4523 - accuracy: 0.8447\n",
      "Epoch 9/100\n",
      "47/47 [==============================] - 0s 477us/step - loss: 0.3877 - accuracy: 0.8618\n",
      "Epoch 10/100\n",
      "47/47 [==============================] - 0s 477us/step - loss: 0.3944 - accuracy: 0.8697\n",
      "Epoch 11/100\n",
      "47/47 [==============================] - 0s 455us/step - loss: 0.4379 - accuracy: 0.8480\n",
      "Epoch 12/100\n",
      "47/47 [==============================] - 0s 499us/step - loss: 0.4470 - accuracy: 0.8449\n",
      "Epoch 13/100\n",
      "47/47 [==============================] - 0s 448us/step - loss: 0.4789 - accuracy: 0.8302\n",
      "Epoch 14/100\n",
      "47/47 [==============================] - 0s 511us/step - loss: 0.4402 - accuracy: 0.8438\n",
      "Epoch 15/100\n",
      "47/47 [==============================] - 0s 491us/step - loss: 0.4928 - accuracy: 0.8220\n",
      "Epoch 16/100\n",
      "47/47 [==============================] - 0s 468us/step - loss: 0.4119 - accuracy: 0.8534\n",
      "Epoch 17/100\n",
      "47/47 [==============================] - 0s 490us/step - loss: 0.4383 - accuracy: 0.8564\n",
      "Epoch 18/100\n",
      "47/47 [==============================] - 0s 455us/step - loss: 0.4807 - accuracy: 0.8556\n",
      "Epoch 19/100\n",
      "47/47 [==============================] - 0s 519us/step - loss: 0.4253 - accuracy: 0.8459\n",
      "Epoch 20/100\n",
      "47/47 [==============================] - 0s 476us/step - loss: 0.4403 - accuracy: 0.8561\n",
      "Epoch 21/100\n",
      "47/47 [==============================] - 0s 502us/step - loss: 0.4191 - accuracy: 0.8513\n",
      "Epoch 22/100\n",
      "47/47 [==============================] - 0s 477us/step - loss: 0.4100 - accuracy: 0.8554\n",
      "Epoch 23/100\n",
      "47/47 [==============================] - 0s 511us/step - loss: 0.4205 - accuracy: 0.8538\n",
      "Epoch 24/100\n",
      "47/47 [==============================] - 0s 465us/step - loss: 0.4226 - accuracy: 0.8471\n",
      "Epoch 25/100\n",
      "47/47 [==============================] - 0s 464us/step - loss: 0.4349 - accuracy: 0.8394\n",
      "Epoch 26/100\n",
      "47/47 [==============================] - 0s 455us/step - loss: 0.4526 - accuracy: 0.8552\n",
      "Epoch 27/100\n",
      "47/47 [==============================] - 0s 477us/step - loss: 0.4590 - accuracy: 0.8312\n",
      "Epoch 28/100\n",
      "47/47 [==============================] - 0s 454us/step - loss: 0.4469 - accuracy: 0.8461\n",
      "Epoch 29/100\n",
      "47/47 [==============================] - 0s 499us/step - loss: 0.3775 - accuracy: 0.8803\n",
      "Epoch 30/100\n",
      "47/47 [==============================] - 0s 477us/step - loss: 0.3581 - accuracy: 0.8892\n",
      "Epoch 31/100\n",
      "47/47 [==============================] - 0s 477us/step - loss: 0.4157 - accuracy: 0.8745\n",
      "Epoch 32/100\n",
      "47/47 [==============================] - 0s 492us/step - loss: 0.4037 - accuracy: 0.8639\n",
      "Epoch 33/100\n",
      "47/47 [==============================] - 0s 456us/step - loss: 0.4367 - accuracy: 0.8560\n",
      "Epoch 34/100\n",
      "47/47 [==============================] - 0s 496us/step - loss: 0.3961 - accuracy: 0.8582\n",
      "Epoch 35/100\n",
      "47/47 [==============================] - 0s 468us/step - loss: 0.4047 - accuracy: 0.8514\n",
      "Epoch 36/100\n",
      "47/47 [==============================] - 0s 534us/step - loss: 0.4423 - accuracy: 0.8340\n",
      "Epoch 37/100\n",
      "47/47 [==============================] - 0s 489us/step - loss: 0.4449 - accuracy: 0.8519\n",
      "Epoch 38/100\n",
      "47/47 [==============================] - 0s 479us/step - loss: 0.4314 - accuracy: 0.8452\n",
      "Epoch 39/100\n",
      "47/47 [==============================] - 0s 478us/step - loss: 0.4797 - accuracy: 0.8291\n",
      "Epoch 40/100\n",
      "47/47 [==============================] - 0s 506us/step - loss: 0.4177 - accuracy: 0.8508\n",
      "Epoch 41/100\n",
      "47/47 [==============================] - 0s 455us/step - loss: 0.4472 - accuracy: 0.8508\n",
      "Epoch 42/100\n",
      "47/47 [==============================] - 0s 499us/step - loss: 0.4340 - accuracy: 0.8517\n",
      "Epoch 43/100\n",
      "47/47 [==============================] - 0s 456us/step - loss: 0.3614 - accuracy: 0.8727\n",
      "Epoch 44/100\n",
      "47/47 [==============================] - 0s 455us/step - loss: 0.3523 - accuracy: 0.8783\n",
      "Epoch 45/100\n",
      "47/47 [==============================] - 0s 476us/step - loss: 0.3800 - accuracy: 0.8555\n",
      "Epoch 46/100\n",
      "47/47 [==============================] - 0s 455us/step - loss: 0.4116 - accuracy: 0.8546\n",
      "Epoch 47/100\n",
      "47/47 [==============================] - 0s 499us/step - loss: 0.3496 - accuracy: 0.8812\n",
      "Epoch 48/100\n",
      "47/47 [==============================] - 0s 455us/step - loss: 0.3902 - accuracy: 0.8645\n",
      "Epoch 49/100\n",
      "47/47 [==============================] - 0s 474us/step - loss: 0.4169 - accuracy: 0.8361\n",
      "Epoch 50/100\n",
      "47/47 [==============================] - 0s 490us/step - loss: 0.3604 - accuracy: 0.8783\n",
      "Epoch 51/100\n",
      "47/47 [==============================] - 0s 480us/step - loss: 0.4260 - accuracy: 0.8457\n",
      "Epoch 52/100\n",
      "47/47 [==============================] - 0s 501us/step - loss: 0.4176 - accuracy: 0.8520\n",
      "Epoch 53/100\n",
      "47/47 [==============================] - 0s 470us/step - loss: 0.4213 - accuracy: 0.8481\n",
      "Epoch 54/100\n",
      "47/47 [==============================] - 0s 477us/step - loss: 0.4200 - accuracy: 0.8348\n",
      "Epoch 55/100\n",
      "47/47 [==============================] - 0s 477us/step - loss: 0.4092 - accuracy: 0.8632\n",
      "Epoch 56/100\n",
      "47/47 [==============================] - 0s 493us/step - loss: 0.3982 - accuracy: 0.8476\n",
      "Epoch 57/100\n",
      "47/47 [==============================] - 0s 461us/step - loss: 0.4001 - accuracy: 0.8525\n",
      "Epoch 58/100\n",
      "47/47 [==============================] - 0s 507us/step - loss: 0.3528 - accuracy: 0.8703\n",
      "Epoch 59/100\n",
      "47/47 [==============================] - 0s 470us/step - loss: 0.4201 - accuracy: 0.8475\n",
      "Epoch 60/100\n",
      "47/47 [==============================] - 0s 480us/step - loss: 0.3578 - accuracy: 0.8774\n",
      "Epoch 61/100\n",
      "47/47 [==============================] - 0s 455us/step - loss: 0.3907 - accuracy: 0.8725\n",
      "Epoch 62/100\n",
      "47/47 [==============================] - 0s 478us/step - loss: 0.4215 - accuracy: 0.8389\n",
      "Epoch 63/100\n",
      "47/47 [==============================] - 0s 524us/step - loss: 0.3711 - accuracy: 0.8686\n",
      "Epoch 64/100\n",
      "47/47 [==============================] - 0s 477us/step - loss: 0.4243 - accuracy: 0.8525\n",
      "Epoch 65/100\n",
      "47/47 [==============================] - 0s 499us/step - loss: 0.3775 - accuracy: 0.8639\n",
      "Epoch 66/100\n",
      "47/47 [==============================] - 0s 465us/step - loss: 0.4256 - accuracy: 0.8517\n",
      "Epoch 67/100\n",
      "47/47 [==============================] - 0s 486us/step - loss: 0.3803 - accuracy: 0.8612\n",
      "Epoch 68/100\n",
      "47/47 [==============================] - 0s 448us/step - loss: 0.4071 - accuracy: 0.8624\n",
      "Epoch 69/100\n",
      "47/47 [==============================] - 0s 499us/step - loss: 0.4336 - accuracy: 0.8197\n",
      "Epoch 70/100\n",
      "47/47 [==============================] - 0s 463us/step - loss: 0.4068 - accuracy: 0.8519\n",
      "Epoch 71/100\n",
      "47/47 [==============================] - 0s 490us/step - loss: 0.4412 - accuracy: 0.8194\n",
      "Epoch 72/100\n",
      "47/47 [==============================] - ETA: 0s - loss: 0.6386 - accuracy: 0.70 - 0s 478us/step - loss: 0.3777 - accuracy: 0.8554\n",
      "Epoch 73/100\n",
      "47/47 [==============================] - 0s 456us/step - loss: 0.4042 - accuracy: 0.8489\n",
      "Epoch 74/100\n",
      "47/47 [==============================] - 0s 455us/step - loss: 0.3783 - accuracy: 0.8595\n",
      "Epoch 75/100\n",
      "47/47 [==============================] - 0s 454us/step - loss: 0.3516 - accuracy: 0.8812\n",
      "Epoch 76/100\n",
      "47/47 [==============================] - 0s 455us/step - loss: 0.3733 - accuracy: 0.8629\n",
      "Epoch 77/100\n",
      "47/47 [==============================] - 0s 471us/step - loss: 0.4473 - accuracy: 0.8247\n",
      "Epoch 78/100\n",
      "47/47 [==============================] - 0s 477us/step - loss: 0.3992 - accuracy: 0.8696\n",
      "Epoch 79/100\n",
      "47/47 [==============================] - 0s 498us/step - loss: 0.4184 - accuracy: 0.8299\n",
      "Epoch 80/100\n",
      "47/47 [==============================] - 0s 459us/step - loss: 0.4250 - accuracy: 0.8335\n"
     ]
    },
    {
     "name": "stdout",
     "output_type": "stream",
     "text": [
      "Epoch 81/100\n",
      "47/47 [==============================] - 0s 475us/step - loss: 0.3712 - accuracy: 0.8793\n",
      "Epoch 82/100\n",
      "47/47 [==============================] - 0s 455us/step - loss: 0.4214 - accuracy: 0.8487\n",
      "Epoch 83/100\n",
      "47/47 [==============================] - 0s 455us/step - loss: 0.4450 - accuracy: 0.8381\n",
      "Epoch 84/100\n",
      "47/47 [==============================] - 0s 455us/step - loss: 0.3537 - accuracy: 0.8840\n",
      "Epoch 85/100\n",
      "47/47 [==============================] - 0s 434us/step - loss: 0.3822 - accuracy: 0.8617\n",
      "Epoch 86/100\n",
      "47/47 [==============================] - 0s 455us/step - loss: 0.3410 - accuracy: 0.8688\n",
      "Epoch 87/100\n",
      "47/47 [==============================] - 0s 434us/step - loss: 0.3933 - accuracy: 0.8567\n",
      "Epoch 88/100\n",
      "47/47 [==============================] - 0s 455us/step - loss: 0.3747 - accuracy: 0.8538\n",
      "Epoch 89/100\n",
      "47/47 [==============================] - 0s 461us/step - loss: 0.3942 - accuracy: 0.8320\n",
      "Epoch 90/100\n",
      "47/47 [==============================] - 0s 520us/step - loss: 0.3722 - accuracy: 0.8768\n",
      "Epoch 91/100\n",
      "47/47 [==============================] - 0s 477us/step - loss: 0.4208 - accuracy: 0.8516\n",
      "Epoch 92/100\n",
      "47/47 [==============================] - 0s 477us/step - loss: 0.4239 - accuracy: 0.8407\n",
      "Epoch 93/100\n",
      "47/47 [==============================] - 0s 477us/step - loss: 0.4079 - accuracy: 0.8362\n",
      "Epoch 94/100\n",
      "47/47 [==============================] - 0s 455us/step - loss: 0.3913 - accuracy: 0.8367\n",
      "Epoch 95/100\n",
      "47/47 [==============================] - 0s 477us/step - loss: 0.4023 - accuracy: 0.8584\n",
      "Epoch 96/100\n",
      "47/47 [==============================] - 0s 455us/step - loss: 0.4342 - accuracy: 0.8596\n",
      "Epoch 97/100\n",
      "47/47 [==============================] - 0s 499us/step - loss: 0.4469 - accuracy: 0.8137\n",
      "Epoch 98/100\n",
      "47/47 [==============================] - 0s 455us/step - loss: 0.3893 - accuracy: 0.8690\n",
      "Epoch 99/100\n",
      "47/47 [==============================] - 0s 477us/step - loss: 0.3737 - accuracy: 0.8620\n",
      "Epoch 100/100\n",
      "47/47 [==============================] - 0s 477us/step - loss: 0.3956 - accuracy: 0.8330\n"
     ]
    },
    {
     "data": {
      "text/plain": [
       "<tensorflow.python.keras.callbacks.History at 0x2a433cfe7c0>"
      ]
     },
     "execution_count": 5,
     "metadata": {},
     "output_type": "execute_result"
    }
   ],
   "source": [
    "from tensorflow.keras.models import Sequential\n",
    "from tensorflow.keras.layers import Dense\n",
    "\n",
    "import numpy as np\n",
    "import tensorflow as tf\n",
    "\n",
    "#실행할 때마다 같은 결과를 출력하기 위해 seed 설정\n",
    "np.random.seed(3)\n",
    "tf.random.set_seed(3)\n",
    "\n",
    "#데이터 불러오기\n",
    "Data_set = np.loadtxt('ThoraricSurgery.csv', delimiter=\",\")\n",
    "Data_set.shape\n",
    "\n",
    "#환자 기록을 x,y로 구분 (인덱싱, 슬라이싱)\n",
    "X=Data_set[:,0:17]\n",
    "Y=Data_set[:,17]\n",
    "\n",
    "#딥러닝 구조를 결정\n",
    "model = Sequential()\n",
    "model.add(Dense(30, input_dim=17, activation='relu'))\n",
    "model.add(Dense(1, activation='sigmoid'))\n",
    "\n",
    "\n",
    "#딥러닝 실행\n",
    "model.compile(loss=\"binary_crossentropy\", optimizer='adam', metrics=['accuracy'])\n",
    "model.fit(X,Y, epochs=100, batch_size=10)"
   ]
  },
  {
   "cell_type": "code",
   "execution_count": 25,
   "id": "a10b867a",
   "metadata": {},
   "outputs": [
    {
     "data": {
      "image/png": "[encoded data removed]",
      "text/plain": [
       "<Figure size 432x288 with 1 Axes>"
      ]
     },
     "metadata": {
      "needs_background": "light"
     },
     "output_type": "display_data"
    }
   ],
   "source": [
    "from tensorflow.keras.models import Sequential\n",
    "from tensorflow.keras.layers import Dense\n",
    "\n",
    "import numpy as np\n",
    "import tensorflow as tf\n",
    "\n",
    "from matplotlib import pyplot as plt\n",
    "\n",
    "X =data =  np.linspace(1,2,200)\n",
    "\n",
    "Y = X*4 + np.random.randn(200) * 0.3\n",
    "\n",
    "#딥러닝 구조 \n",
    "model = Sequential()\n",
    "model.add(Dense(1, input_dim=1, activation ='linear'))\n",
    "model.compile(optimizer='sgd', loss=\"mse\", metrics=['mse'])\n",
    "\n",
    "#딥러닝 학습시킴 (verbose = 0으로 하면 학습한 과정 안보여줌)\n",
    "model.fit(X,Y, batch_size=1, epochs=30, verbose= 0)\n",
    "\n",
    "#딥러닝 학습한 것을 가지고 예측\n",
    "predict = model.predict(data)\n",
    "\n",
    "\n",
    "#첫번째 그래프는 파란색, 두번째 그래프는 검정색\n",
    "plt.plot(data, predict, 'b', data, Y, 'k.')\n",
    "plt.show()"
   ]
  },
  {
   "cell_type": "markdown",
   "id": "7b31e525",
   "metadata": {},
   "source": [
    "##### 선형회귀"
   ]
  },
  {
   "cell_type": "code",
   "execution_count": 55,
   "id": "13426acc",
   "metadata": {},
   "outputs": [
    {
     "name": "stdout",
     "output_type": "stream",
     "text": [
      "x의 평균값: 5.0\n",
      "y의 평균값: 90.5\n",
      "분모: 20.0\n",
      "분자: 46.0\n",
      "기울기 a = 2.3\n",
      "y 절편 b = 79.0\n"
     ]
    }
   ],
   "source": [
    "import  numpy as np\n",
    "\n",
    "x = [2, 4, 6, 8]\n",
    "y = [81, 93, 91, 97]\n",
    "\n",
    "mx = np.mean(x)\n",
    "my = np.mean(y)\n",
    "print(\"x의 평균값:\", mx)\n",
    "print(\"y의 평균값:\", my)\n",
    "\n",
    "divisor = sum([(mx - i)**2 for i in x])\n",
    "\n",
    "def top(x, mx, y, my):\n",
    "    d = 0\n",
    "    for i in range(len(x)):\n",
    "        d += (x[i] - mx) * (y[i] - my)\n",
    "    return d\n",
    "dividend = top(x, mx, y, my)\n",
    "\n",
    "print(\"분모:\", divisor)\n",
    "print(\"분자:\", dividend)\n",
    "\n",
    "a = dividend / divisor\n",
    "b = my - (mx*a)\n",
    "\n",
    "print(\"기울기 a =\", a)\n",
    "print(\"y 절편 b =\", b)\n"
   ]
  },
  {
   "cell_type": "code",
   "execution_count": 62,
   "id": "a9537bf1",
   "metadata": {},
   "outputs": [
    {
     "name": "stdout",
     "output_type": "stream",
     "text": [
      "20.0\n",
      "46.0\n",
      "2.3\n",
      "79.0\n"
     ]
    }
   ],
   "source": [
    "import  numpy as np\n",
    "\n",
    "x = [2, 4, 6, 8]\n",
    "y = [81, 93, 91, 97]\n",
    "\n",
    "mx = np.mean(x)\n",
    "my = np.mean(y)\n",
    "list_arr = []\n",
    "for i in x:\n",
    "    a = (mx-i)**2\n",
    "    list_arr.append(a)\n",
    "    divisor= sum(list_arr)\n",
    "    \n",
    "print(divisor)\n",
    "divident = sum([(x[i] - mx)*(y[i] -my) for i in range(len(x))])\n",
    "print(divident)\n",
    "\n",
    "a = dividend / divisor\n",
    "b = my -(mx*a)\n",
    "\n",
    "print(a)\n",
    "print(b)"
   ]
  },
  {
   "cell_type": "code",
   "execution_count": 76,
   "id": "3c2ab35c",
   "metadata": {},
   "outputs": [
    {
     "data": {
      "image/png": "[encoded data removed]",
      "text/plain": [
       "<Figure size 432x288 with 1 Axes>"
      ]
     },
     "metadata": {
      "needs_background": "light"
     },
     "output_type": "display_data"
    }
   ],
   "source": [
    "from matplotlib import pyplot as plt\n",
    "reg_y = []\n",
    "for i in x:\n",
    "    reg_y.append(b + (a*i))\n",
    "    \n",
    "plt.scatter(x,y, label= 'real')\n",
    "plt.plot(x, reg_y, c='r', label= \"reg\")\n",
    "plt.legend()\n",
    "# plt.plot(x,y, '.', x, reg_y, 'r')\n",
    "plt.show()"
   ]
  },
  {
   "cell_type": "code",
   "execution_count": 84,
   "id": "9ccb2b45",
   "metadata": {},
   "outputs": [
    {
     "name": "stdout",
     "output_type": "stream",
     "text": [
      "공부시간=2, 실제점수=81, 예측점수=84\n",
      "공부시간=4, 실제점수=93, 예측점수=88\n",
      "공부시간=6, 실제점수=91, 예측점수=93\n",
      "공부시간=8, 실제점수=97, 예측점수=97\n",
      "MSE 최종값 :8.299999999999985\n"
     ]
    }
   ],
   "source": [
    "import numpy as np\n",
    "\n",
    "fake_a_b = [2.3, 79]\n",
    "data = [[2,81], [4,93], [6,91], [8,97]]\n",
    "x = [i[0] for i in data]\n",
    "y = [i[1] for i in data]\n",
    "\n",
    "def predict(x):\n",
    "    return fake_a_b[0]*x + fake_a_b[1]\n",
    "\n",
    "# def mse(y, y_hat):\n",
    "#     return ((y-y_hat)**2).mean()\n",
    "def mae(y, y_hat):\n",
    "    return ()\n",
    "\n",
    "def mse_val(y, predict_result):\n",
    "    return mse(np.array(y), np.array(predict_result))\n",
    "\n",
    "predict_result = []\n",
    "\n",
    "\n",
    "for i in range(len(x)):\n",
    "    predict_result.append(predict(x[i]))\n",
    "    print(\"공부시간=%.f, 실제점수=%.f, 예측점수=%.f\" %(x[i], y[i], predict(x[i])))\n",
    "    \n",
    "print('MSE 최종값 :' + str(mse_val(predict_result,y)))"
   ]
  },
  {
   "cell_type": "markdown",
   "id": "6eb7fe34",
   "metadata": {},
   "source": [
    "# gradient descent"
   ]
  },
  {
   "cell_type": "code",
   "execution_count": 85,
   "id": "d263e61d",
   "metadata": {},
   "outputs": [
    {
     "data": {
      "image/png": "[encoded data removed]",
      "text/plain": [
       "<Figure size 576x360 with 1 Axes>"
      ]
     },
     "metadata": {
      "needs_background": "light"
     },
     "output_type": "display_data"
    }
   ],
   "source": [
    "import numpy as np\n",
    "import pandas as pd\n",
    "import matplotlib.pyplot as plt\n",
    "\n",
    "data = [[2,81], [4,93], [6,91], [8,97]]\n",
    "x = [i[0] for i in data]\n",
    "y = [i[1] for i in data]\n",
    "\n",
    "plt.figure(figsize=(8,5))\n",
    "plt.scatter(x,y)\n",
    "plt.show()"
   ]
  },
  {
   "cell_type": "code",
   "execution_count": 86,
   "id": "ae312144",
   "metadata": {},
   "outputs": [
    {
     "name": "stdout",
     "output_type": "stream",
     "text": [
      "epoch=0, 기울기=27.8400, 절편=5.4300\n",
      "epoch=100, 기울기=7.0739, 절편=50.5117\n",
      "epoch=200, 기울기=4.0960, 절편=68.2822\n",
      "epoch=300, 기울기=2.9757, 절편=74.9678\n",
      "epoch=400, 기울기=2.5542, 절편=77.4830\n",
      "epoch=500, 기울기=2.3956, 절편=78.4293\n",
      "epoch=600, 기울기=2.3360, 절편=78.7853\n",
      "epoch=700, 기울기=2.3135, 절편=78.9192\n",
      "epoch=800, 기울기=2.3051, 절편=78.9696\n",
      "epoch=900, 기울기=2.3019, 절편=78.9886\n",
      "epoch=1000, 기울기=2.3007, 절편=78.9957\n",
      "epoch=1100, 기울기=2.3003, 절편=78.9984\n",
      "epoch=1200, 기울기=2.3001, 절편=78.9994\n",
      "epoch=1300, 기울기=2.3000, 절편=78.9998\n",
      "epoch=1400, 기울기=2.3000, 절편=78.9999\n",
      "epoch=1500, 기울기=2.3000, 절편=79.0000\n",
      "epoch=1600, 기울기=2.3000, 절편=79.0000\n",
      "epoch=1700, 기울기=2.3000, 절편=79.0000\n",
      "epoch=1800, 기울기=2.3000, 절편=79.0000\n",
      "epoch=1900, 기울기=2.3000, 절편=79.0000\n",
      "epoch=2000, 기울기=2.3000, 절편=79.0000\n"
     ]
    }
   ],
   "source": [
    "x_data = np.array(x)\n",
    "y_data = np.array(y)\n",
    "\n",
    "a = 0\n",
    "b = 0\n",
    "\n",
    "lr = 0.03\n",
    "\n",
    "#몇 번 학습을 한건지\n",
    "epochs = 2001\n",
    "\n",
    "for i in range(epochs):\n",
    "    y_hat = a * x_data +b\n",
    "    error = y_data - y_hat\n",
    "    a_diff = -(2/len(x_data)) * sum(x_data *(error))\n",
    "    b_diff = -(2/len(x_data)) * sum(error)\n",
    "    a = a -lr *a_diff\n",
    "    b = b -lr *b_diff\n",
    "    if i % 100 ==0:\n",
    "        print('epoch=%.f, 기울기=%.04f, 절편=%.04f' % (i,a,b))"
   ]
  },
  {
   "cell_type": "code",
   "execution_count": 89,
   "id": "827f3ae5",
   "metadata": {},
   "outputs": [
    {
     "data": {
      "text/plain": [
       "<matplotlib.collections.PathCollection at 0x2a43a6248e0>"
      ]
     },
     "execution_count": 89,
     "metadata": {},
     "output_type": "execute_result"
    },
    {
     "data": {
      "image/png": "[encoded data removed]",
      "text/plain": [
       "<Figure size 432x288 with 1 Axes>"
      ]
     },
     "metadata": {
      "needs_background": "light"
     },
     "output_type": "display_data"
    }
   ],
   "source": [
    "import numpy as np\n",
    "import pandas as pd\n",
    "import matplotlib.pyplot as plt\n",
    "%matplotlib inline\n",
    "\n",
    "np.random.seed(0)\n",
    "X = 2 * np.random.rand(100,1)\n",
    "y = 6 + 4 * X + np.random.rand(100,1)\n",
    "\n",
    "plt.scatter(X,y)"
   ]
  },
  {
   "cell_type": "code",
   "execution_count": 111,
   "id": "73c047d1",
   "metadata": {},
   "outputs": [
    {
     "name": "stdout",
     "output_type": "stream",
     "text": [
      "(100, 1)\n",
      "(1, 1) (1, 1)\n"
     ]
    },
    {
     "data": {
      "text/plain": [
       "(array([[0.]]), array([[0.]]))"
      ]
     },
     "execution_count": 111,
     "metadata": {},
     "output_type": "execute_result"
    }
   ],
   "source": [
    "def get_weight_updates(w1, w0, S, y, learning_rate=0.01):\n",
    "    N = len(y)\n",
    "    w1_update = np.zeros_like(w1)\n",
    "    w0_update = np.zeros_like(w0)\n",
    "    y_pred = np.dot(X, w1.T) + w0\n",
    "    w0_factors = np.ones((N,1))\n",
    "    w1_update = -(2/N)*learning_rate*(np.dot(X.T, diff))\n",
    "    w0_update = -(2/N)*learning_rate*(np.dot(w0_factors.T, diff))\n",
    "    return w1_update, w0_update\n",
    "w0 = np.zeros((1,1))\n",
    "w1 = np.zeros((1,1))\n",
    "y_pred = np.dot(X, w1.T) + w0\n",
    "diff = y-y_pred\n",
    "print(diff.shape)\n",
    "w0_factors = np.ones((100,1))\n",
    "w1_update = -(2/100)*0.01*(np.dot(X.T, diff))\n",
    "w0_update = -(2/100)*0.01*(np.dot(w0_factors.T, diff))\n",
    "print(w1_update.shape, w0_update.shape)\n",
    "w1, w0"
   ]
  },
  {
   "cell_type": "code",
   "execution_count": 112,
   "id": "144aa8fa",
   "metadata": {},
   "outputs": [
    {
     "name": "stdout",
     "output_type": "stream",
     "text": [
      "(100, 1)\n",
      "(1, 1) (1, 1)\n"
     ]
    },
    {
     "data": {
      "text/plain": [
       "(array([[0.]]), array([[0.]]))"
      ]
     },
     "execution_count": 112,
     "metadata": {},
     "output_type": "execute_result"
    }
   ],
   "source": [
    "w0 = np.zeros((1,1))\n",
    "w1 = np.zeros((1,1))\n",
    "y_pred = np.dot(X, w1.T) + w0\n",
    "diff = y-y_pred\n",
    "print(diff.shape)\n",
    "w0_factors = np.ones((100,1))\n",
    "w1_update = -(2/100)*0.01*(np.dot(X.T, diff))\n",
    "w0_update = -(2/100)*0.01*(np.dot(w0_factors.T, diff))\n",
    "print(w1_update.shape, w0_update.shape)\n",
    "w1, w0"
   ]
  },
  {
   "cell_type": "code",
   "execution_count": 113,
   "id": "98dc6a25",
   "metadata": {},
   "outputs": [
    {
     "name": "stdout",
     "output_type": "stream",
     "text": [
      "w1:0.221, w0:0.206\n",
      "Grandient Descent Total Cost:102.6528\n"
     ]
    }
   ],
   "source": [
    "def gradient_descent_steps(X, y, iters=1000):\n",
    "    w0 = np.zeros((1,1))\n",
    "    w1 = np.zeros((1,1))\n",
    "    for ind in range(iters):\n",
    "        w1_update, w0_update = get_weight_updates(w1, w0, X, y, learning_rate=0.01)\n",
    "        w1 = w1 - w1_update\n",
    "        w0 = w0 - w0_update\n",
    "        return w1, w0\n",
    "def get_cost(y, y_pred):\n",
    "    N = len(y)\n",
    "    cost = np.sum(np.square(y - y_pred))/N\n",
    "    return cost\n",
    "w1, w0 = gradient_descent_steps(X, y, iters=1000)\n",
    "print(\"w1:{0:.3f}, w0:{1:.3f}\".format(w1[0,0], w0[0,0]))\n",
    "y_pred = w1[0,0] * X + w0\n",
    "print('Grandient Descent Total Cost:{0:.4f}'.format(get_cost(y, y_pred)))"
   ]
  },
  {
   "cell_type": "markdown",
   "id": "7003b755",
   "metadata": {},
   "source": [
    "# 다중 선형회귀"
   ]
  }
 ],
 "metadata": {
  "kernelspec": {
   "display_name": "Python 3",
   "language": "python",
   "name": "python3"
  },
  "language_info": {
   "codemirror_mode": {
    "name": "ipython",
    "version": 3
   },
   "file_extension": ".py",
   "mimetype": "text/x-python",
   "name": "python",
   "nbconvert_exporter": "python",
   "pygments_lexer": "ipython3",
   "version": "3.8.9"
  }
 },
 "nbformat": 4,
 "nbformat_minor": 5
}
